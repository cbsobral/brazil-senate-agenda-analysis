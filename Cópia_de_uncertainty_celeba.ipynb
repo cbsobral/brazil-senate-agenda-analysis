{
  "nbformat": 4,
  "nbformat_minor": 0,
  "metadata": {
    "colab": {
      "provenance": [],
      "gpuType": "T4",
      "include_colab_link": true
    },
    "kernelspec": {
      "name": "python3",
      "display_name": "Python 3"
    },
    "language_info": {
      "name": "python"
    },
    "accelerator": "GPU"
  },
  "cells": [
    {
      "cell_type": "markdown",
      "metadata": {
        "id": "view-in-github",
        "colab_type": "text"
      },
      "source": [
        "<a href=\"https://colab.research.google.com/github/cbsobral/brazil-senate-agenda-analysis/blob/main/C%C3%B3pia_de_uncertainty_celeba.ipynb\" target=\"_parent\"><img src=\"https://colab.research.google.com/assets/colab-badge.svg\" alt=\"Open In Colab\"/></a>"
      ]
    },
    {
      "cell_type": "markdown",
      "source": [
        "## TODO:\n",
        "\n",
        "MODEL\n",
        "- ~implement augmentation on train~ DONE -- not great, accurary still ~50%\n",
        "- ~test learning on 300 classes again (I think it was better?)~ DONE -- a bit better = 53%\n",
        "- try other models\n",
        "- save training metrics with the model (loss, acc)\n",
        "\n",
        "UNCERTAINTY\n",
        "- fix/understand dropout\n",
        "- implement other methods (ensemble and tta)\n",
        "  - distribution of uncertainty for all predictions\n",
        "  - uncertainty for one sample of the dataset\n",
        "  - transition from one sample to another and show distribution of preds\n",
        "\n"
      ],
      "metadata": {
        "id": "helVis7KPDQ_"
      }
    },
    {
      "cell_type": "markdown",
      "source": [
        "## Dataset Selection\n",
        "\n",
        "\n",
        "The [CelebA (CelebFaces Attributes)](https://mmlab.ie.cuhk.edu.hk/projects/CelebA.html) dataset was selected after comparison with two alternatives: [Labeled Faces in the Wild](https://vis-www.cs.umass.edu/lfw/) and the [Yale Face](http://cvc.cs.yale.edu/cvc/projects/yalefaces/yalefaces.html) database. While Faces in the Wild lacks sufficient samples per identity class, and the Yale database has limited total samples despite good intra-class variation.\n",
        "\n",
        "CelebA offers an extensive collection of over 200K images across 10,177 identities. Analysis of the identity distribution showed that over 2,000 classes have 30 or more samples. To balance computational efficiency with dataset quality, we filtered the dataset to the top 300 identities (~9,000 images).\n",
        "\n",
        "This filtering ensures sufficient samples per class while keeping training time reasonable. Both versions maintain a minimum of 30 images per identity, providing enough variation for the model to learn robust features."
      ],
      "metadata": {
        "id": "thsd1A2wMP3N"
      }
    },
    {
      "cell_type": "code",
      "execution_count": 1,
      "metadata": {
        "id": "g3jCFv37PI-Z",
        "colab": {
          "base_uri": "https://localhost:8080/"
        },
        "outputId": "ec2b4acb-4aa7-4ab3-bd95-48d8a9af9e31"
      },
      "outputs": [
        {
          "output_type": "stream",
          "name": "stdout",
          "text": [
            "Downloading...\n",
            "From (original): https://drive.google.com/uc?id=1aRMM1cdvjXv8mke5Dd4hrgHNA3ZTkOc7\n",
            "From (redirected): https://drive.google.com/uc?id=1aRMM1cdvjXv8mke5Dd4hrgHNA3ZTkOc7&confirm=t&uuid=b63988cb-0c6c-4a36-81e8-647b5c4d5bd7\n",
            "To: /content/celeba_300.zip\n",
            "100% 66.0M/66.0M [00:02<00:00, 27.1MB/s]\n"
          ]
        }
      ],
      "source": [
        "import torch\n",
        "from torch.utils.data import Dataset, DataLoader, random_split\n",
        "from torchvision import transforms\n",
        "import torch.nn as nn\n",
        "import torch.optim as optim\n",
        "import os\n",
        "from PIL import Image\n",
        "from tqdm import tqdm\n",
        "import timm\n",
        "import warnings\n",
        "warnings.filterwarnings(\"ignore\", category=FutureWarning)\n",
        "warnings.filterwarnings(\"ignore\", category=UserWarning)\n",
        "\n",
        "\n",
        "# Download dataset with 300 classes and ~9k samples\n",
        "!gdown 1aRMM1cdvjXv8mke5Dd4hrgHNA3ZTkOc7 #\n",
        "!unzip -q celeba_300.zip\n",
        "!rm celeba_300.zip\n",
        "dataset_dir = \"celeba_300\"\n",
        "\n",
        "\n",
        "# Download dataset with 500 classes and ~15k samples\n",
        "# !gdown 1Z6UMrQwje-D0VvcKPEXUHzuBvWzCMyAh # -- 500 classes\n",
        "# !unzip -q celeba_500.zip\n",
        "# !rm celeba_500.zip\n",
        "# dataset_dir = \"celeba_500\""
      ]
    },
    {
      "cell_type": "markdown",
      "source": [
        "## Dataset\n",
        "\n",
        "`CelebADataset` is the custom dataset class that handles the images. The class implements two different transform pipelines: a basic one for testing and an augmented one for training. The training transforms increase dataset variety by:\n",
        "\n",
        "- Randomly flipping images horizontally\n",
        "- Slightly rotating, shifting, and scaling images\n",
        "- Adjusting image brightness, contrast, and saturation\n",
        "- Adding blur and noise\n",
        "- randomly erasing small image patches\n",
        "\n",
        "The data loader function `create_data_loaders` splits the dataset into training and testing sets, ensuring each uses the appropriate transforms."
      ],
      "metadata": {
        "id": "xiEB5ngCE-Xj"
      }
    },
    {
      "cell_type": "code",
      "source": [
        "# @title Dataset and Loader\n",
        "\n",
        "class CelebADataset(Dataset):\n",
        "    def __init__(self, root_dir=dataset_dir, train=True):\n",
        "        # Load metadata\n",
        "        info = torch.load(os.path.join(root_dir, \"dataset_info.pt\"))\n",
        "        self.metadata = info[\"metadata\"]\n",
        "        self.n_classes = info[\"n_classes\"]\n",
        "        self.root_dir = root_dir\n",
        "        self.train = train\n",
        "\n",
        "        # Basic transform for testing\n",
        "        self.test_transform = transforms.Compose([\n",
        "            transforms.Resize((224, 224)),                    # Resize image to standard input size\n",
        "            transforms.ToTensor(),\n",
        "            transforms.Normalize(\n",
        "                                mean=[0.485, 0.456, 0.406],   # Normalize using ImageNet stats -- MobileNet trained on ImageNet\n",
        "                                std=[0.229, 0.224, 0.225])\n",
        "        ])\n",
        "\n",
        "        # Augmented transform for training\n",
        "        self.train_transform = transforms.Compose([\n",
        "          transforms.Resize((224, 224)),\n",
        "          transforms.RandomHorizontalFlip(p=0.5),     # Flip horizontally 50% of time\n",
        "          transforms.RandomAffine(                    # Stronger geometric transforms\n",
        "              degrees=(-10, 10),                      # Rotate ±10°\n",
        "              translate=(0.1, 0.1),                   # Shift up to 10% any direction\n",
        "              scale=(0.85, 1.15),                     # Scale 85-115% of original\n",
        "              fill=255                                # Fill edges white\n",
        "          ),\n",
        "          transforms.RandomPerspective(               # Perspective warping\n",
        "              distortion_scale=0.2,                   # Moderate distortion\n",
        "              p=0.5                                   # 50% chance to apply\n",
        "          ),\n",
        "          transforms.ColorJitter(                     # Enhanced color augmentation\n",
        "              brightness=0.3,                         # ±30% brightness variation\n",
        "              contrast=0.3,                           # ±30% contrast variation\n",
        "              saturation=0.2,                         # ±20% saturation variation\n",
        "          ),\n",
        "          transforms.GaussianBlur(kernel_size=3, sigma=(0.1, 0.5)),  # Slight blur\n",
        "          transforms.ToTensor(),                      # Convert to tensor\n",
        "          transforms.Lambda(lambda x: x + torch.randn_like(x) * 0.02),  # 2% noise\n",
        "          transforms.RandomErasing(                   # Random patch removal\n",
        "              p=0.2,                                  # 20% chance to erase\n",
        "              scale=(0.02, 0.15)                      # Erase 2-15% of image\n",
        "          ),\n",
        "          transforms.Normalize(                       # ImageNet normalization\n",
        "              mean=[0.485, 0.456, 0.406],\n",
        "              std=[0.229, 0.224, 0.225]\n",
        "          )\n",
        "        ])\n",
        "\n",
        "    def __len__(self):\n",
        "        return len(self.metadata)\n",
        "\n",
        "    def __getitem__(self, idx):\n",
        "        img_data = self.metadata[idx]\n",
        "        img_path = os.path.join(self.root_dir, \"images\", img_data[\"img_name\"])\n",
        "\n",
        "        # Load image\n",
        "        image = Image.open(img_path)\n",
        "\n",
        "        # Apply appropriate transform\n",
        "        if self.train:\n",
        "            image = self.train_transform(image)\n",
        "        else:\n",
        "            image = self.test_transform(image)\n",
        "\n",
        "        return image, img_data[\"identity\"]\n",
        "\n",
        "\n",
        "def create_data_loaders(batch_size=32, train_split=0.8):\n",
        "    # Create full dataset\n",
        "    full_dataset = CelebADataset()\n",
        "\n",
        "    # Calculate splits\n",
        "    train_size = int(train_split * len(full_dataset))\n",
        "    test_size = len(full_dataset) - train_size\n",
        "\n",
        "    # Create splits\n",
        "    train_dataset, test_dataset = random_split(\n",
        "        full_dataset,\n",
        "        [train_size, test_size],\n",
        "        generator=torch.Generator().manual_seed(42)\n",
        "    )\n",
        "\n",
        "    # Modify datasets to have correct transforms\n",
        "    train_dataset.dataset.train = True\n",
        "    test_dataset.dataset.train = False\n",
        "\n",
        "    # Create loaders\n",
        "    train_loader = DataLoader(\n",
        "        train_dataset,\n",
        "        batch_size=batch_size,\n",
        "        shuffle=True,\n",
        "        num_workers=2\n",
        "    )\n",
        "\n",
        "    test_loader = DataLoader(\n",
        "        test_dataset,\n",
        "        batch_size=batch_size,\n",
        "        shuffle=False,\n",
        "        num_workers=2\n",
        "    )\n",
        "\n",
        "    print(f\"Training samples: {len(train_dataset)}\")\n",
        "    print(f\"Testing samples: {len(test_dataset)}\")\n",
        "\n",
        "    return train_loader, test_loader, full_dataset.n_classes"
      ],
      "metadata": {
        "id": "ZZuYic_ERC8U",
        "cellView": "form"
      },
      "execution_count": 2,
      "outputs": []
    },
    {
      "cell_type": "markdown",
      "source": [
        "## Model Architecture and Training\n",
        "\n",
        "The `FaceClassifier` class wraps a pretrained MobileNetV3 model, adapting it for face recognition with an added dropout layer for uncertainty estimation.\n",
        "\n",
        "Training uses standard deep learning practices:\n",
        "\n",
        "- Cross-entropy loss for classification\n",
        "- AdamW optimizer for parameter updates\n",
        "- Learning rate scheduling to reduce learning rate when performance plateaus\n",
        "- Model checkpointing to save the best performing version\n",
        "\n",
        "The training loop monitors both training and testing performance, saving the model whenever it achieves better accuracy on the test set.\n"
      ],
      "metadata": {
        "id": "CbBYXixnUjfj"
      }
    },
    {
      "cell_type": "code",
      "source": [
        "# @title Model Architecture and Setup\n",
        "\n",
        "# FIXME: hide warning message\n",
        "\n",
        "class FaceClassifier(nn.Module):\n",
        "    def __init__(self, model_name, num_classes, dropout_rate=0.5):\n",
        "        super().__init__()\n",
        "        self.model = timm.create_model(model_name, pretrained=True, num_classes=num_classes, drop_rate=dropout_rate)\n",
        "        self.dropout_rate = dropout_rate\n",
        "\n",
        "    def enable_dropout(self):\n",
        "        # For MC dropout at inference\n",
        "        self.train()\n",
        "        self.model.head_drop.train()  # Keep dropout active even in eval mode\n",
        "\n",
        "    def forward(self, x):\n",
        "        return self.model(x)\n",
        "\n",
        "\n",
        "# Training function\n",
        "def train_epoch(model, train_loader, criterion, optimizer, device):\n",
        "    model.train()\n",
        "    running_loss = 0.0\n",
        "    correct = 0\n",
        "    total = 0\n",
        "\n",
        "    for inputs, labels in tqdm(train_loader, desc=\"Training\"):\n",
        "        inputs, labels = inputs.to(device), labels.to(device)\n",
        "\n",
        "        optimizer.zero_grad()\n",
        "        outputs = model(inputs)\n",
        "        loss = criterion(outputs, labels)\n",
        "\n",
        "        loss.backward()\n",
        "        optimizer.step()\n",
        "\n",
        "        running_loss += loss.item()\n",
        "        _, predicted = outputs.max(1)\n",
        "        total += labels.size(0)\n",
        "        correct += predicted.eq(labels).sum().item()\n",
        "\n",
        "    accuracy = 100.0 * correct / total\n",
        "    return running_loss / len(train_loader), accuracy\n",
        "\n",
        "# Evaluation function\n",
        "def evaluate(model, test_loader, criterion, device):\n",
        "    model.eval()\n",
        "    running_loss = 0.0\n",
        "    correct = 0\n",
        "    total = 0\n",
        "\n",
        "    with torch.no_grad():\n",
        "        for inputs, labels in tqdm(test_loader, desc=\"Evaluating\"):\n",
        "            inputs, labels = inputs.to(device), labels.to(device)\n",
        "            outputs = model(inputs)\n",
        "            loss = criterion(outputs, labels)\n",
        "\n",
        "            running_loss += loss.item()\n",
        "            _, predicted = outputs.max(1)\n",
        "            total += labels.size(0)\n",
        "            correct += predicted.eq(labels).sum().item()\n",
        "\n",
        "    accuracy = 100.0 * correct / total\n",
        "    return running_loss / len(test_loader), accuracy\n",
        "\n",
        "train_loader, test_loader, num_classes = create_data_loaders(batch_size=32)"
      ],
      "metadata": {
        "id": "GxarmcmHROly",
        "colab": {
          "base_uri": "https://localhost:8080/"
        },
        "outputId": "675ae99d-699d-4110-e2f0-14c00f7f9d9d"
      },
      "execution_count": 16,
      "outputs": [
        {
          "output_type": "stream",
          "name": "stdout",
          "text": [
            "Training samples: 7230\n",
            "Testing samples: 1808\n"
          ]
        }
      ]
    },
    {
      "cell_type": "markdown",
      "source": [
        "\n",
        "The selected models have complementary architectures. Inception-ResNet v2 as main model with built-in dropout for uncertainty. MobileNetV3 and EfficientNet-B4 have no dropout layers and provide ensemble uncertainty through their different architectures."
      ],
      "metadata": {
        "id": "x7nJ9i1-ktpg"
      }
    },
    {
      "cell_type": "code",
      "source": [
        "# @title Training Loop\n",
        "import time\n",
        "import copy\n",
        "\n",
        "# model_names = ['inception_resnet_v2', 'efficientnet_b4', 'mobilenetv3_large_100']\n",
        "model_names = ['mobilenetv3_large_100'] # For testing, much faster than the rest\n",
        "device = torch.device(\"cuda\" if torch.cuda.is_available() else \"cpu\")\n",
        "\n",
        "num_epochs = 10\n",
        "patience = 3  # Early stopping patience\n",
        "\n",
        "metrics = {model_name: {\n",
        "   'epochs': [],\n",
        "   'train_loss': [],\n",
        "   'train_acc': [],\n",
        "   'test_loss': [],\n",
        "   'test_acc': []\n",
        "} for model_name in model_names}\n",
        "\n",
        "for model_name in model_names:\n",
        "    start_time = time.time()\n",
        "    print(f\"\\nTraining {model_name}\\n\")\n",
        "\n",
        "    model = FaceClassifier(model_name, num_classes, dropout_rate=0.5).to(device)\n",
        "    optimizer = optim.AdamW(model.parameters(), lr=0.001, weight_decay=1e-4)\n",
        "    criterion = nn.CrossEntropyLoss(label_smoothing=0.1)\n",
        "\n",
        "    best_accuracy = 0.0\n",
        "    min_valid_loss = float('inf')\n",
        "    no_improve_count = 0\n",
        "    best_state_dict = None\n",
        "\n",
        "    metrics[model_name] = {\n",
        "        'epochs': [], 'train_loss': [], 'train_acc': [],\n",
        "        'test_loss': [], 'test_acc': []\n",
        "    }\n",
        "\n",
        "    for epoch in range(num_epochs):\n",
        "        print(f\"Epoch {epoch+1}/{num_epochs}: \\n\")\n",
        "\n",
        "        train_loss, train_acc = train_epoch(model, train_loader, criterion, optimizer, device)\n",
        "        test_loss, test_acc = evaluate(model, test_loader, criterion, device)\n",
        "\n",
        "        # Update metrics\n",
        "        for key, value in zip(metrics[model_name].keys(), [epoch, train_loss, train_acc, test_loss, test_acc]):\n",
        "            metrics[model_name][key].append(value)\n",
        "\n",
        "        # Track best model\n",
        "        if test_acc > best_accuracy:\n",
        "            print(f\"\\nNew best accuracy! ({test_acc:.2f}% > {best_accuracy:.2f}%)\")\n",
        "            best_accuracy = test_acc\n",
        "            best_state_dict = copy.deepcopy(model.state_dict())\n",
        "\n",
        "        print(f\"Train Loss: {train_loss:.4f}, Train Acc: {train_acc:.2f}%\")\n",
        "        print(f\"Test Loss: {test_loss:.4f}, Test Acc: {test_acc:.2f}%\")\n",
        "        print(\"-\" * 50 + \"\\n\")\n",
        "\n",
        "        # Early stopping\n",
        "        if test_loss < min_valid_loss:\n",
        "            min_valid_loss = test_loss\n",
        "            no_improve_count = 0\n",
        "        else:\n",
        "            no_improve_count += 1\n",
        "            if no_improve_count >= patience:\n",
        "                print(f\"Early stopping triggered after {epoch+1} epochs\")\n",
        "                break\n",
        "\n",
        "    training_time = time.time() - start_time\n",
        "    hours = int(training_time // 3600)\n",
        "    minutes = int((training_time % 3600) // 60)\n",
        "    seconds = int(training_time % 60)\n",
        "    print(f\"Total training time for {model_name}: {hours}h {minutes}m {seconds}s\")\n",
        "\n",
        "    # Save best model at end\n",
        "    if os.path.exists(f'best_{model_name}_model.pt'):\n",
        "        os.remove(f'best_{model_name}_model.pt')\n",
        "        time.sleep(12)\n",
        "\n",
        "    torch.save({\n",
        "        'model_state_dict': best_state_dict,\n",
        "        'metrics': metrics[model_name],\n",
        "    }, f'best_{model_name}_model.pt')\n",
        "    print(\"\\nBest model saved successfully.\")"
      ],
      "metadata": {
        "id": "qgR4KmdERSEr",
        "colab": {
          "base_uri": "https://localhost:8080/"
        },
        "outputId": "6794a210-4d43-4739-e1aa-d3f1c2e91ffb"
      },
      "execution_count": 20,
      "outputs": [
        {
          "output_type": "stream",
          "name": "stdout",
          "text": [
            "\n",
            "Training mobilenetv3_large_100\n",
            "\n",
            "Epoch 1/10: \n",
            "\n"
          ]
        },
        {
          "output_type": "stream",
          "name": "stderr",
          "text": [
            "Training: 100%|██████████| 226/226 [00:28<00:00,  7.97it/s]\n",
            "Evaluating: 100%|██████████| 57/57 [00:05<00:00,  9.79it/s]\n"
          ]
        },
        {
          "output_type": "stream",
          "name": "stdout",
          "text": [
            "\n",
            "New best accuracy! (24.45% > 0.00%)\n",
            "Train Loss: 4.9047, Train Acc: 9.72%\n",
            "Test Loss: 3.8447, Test Acc: 24.45%\n",
            "--------------------------------------------------\n",
            "\n",
            "Epoch 2/10: \n",
            "\n"
          ]
        },
        {
          "output_type": "stream",
          "name": "stderr",
          "text": [
            "Training: 100%|██████████| 226/226 [00:26<00:00,  8.39it/s]\n",
            "Evaluating: 100%|██████████| 57/57 [00:04<00:00, 12.50it/s]\n"
          ]
        },
        {
          "output_type": "stream",
          "name": "stdout",
          "text": [
            "\n",
            "New best accuracy! (47.12% > 24.45%)\n",
            "Train Loss: 3.0817, Train Acc: 43.08%\n",
            "Test Loss: 2.9417, Test Acc: 47.12%\n",
            "--------------------------------------------------\n",
            "\n",
            "Epoch 3/10: \n",
            "\n"
          ]
        },
        {
          "output_type": "stream",
          "name": "stderr",
          "text": [
            "Training: 100%|██████████| 226/226 [00:27<00:00,  8.12it/s]\n",
            "Evaluating: 100%|██████████| 57/57 [00:05<00:00, 10.06it/s]\n"
          ]
        },
        {
          "output_type": "stream",
          "name": "stdout",
          "text": [
            "\n",
            "New best accuracy! (59.73% > 47.12%)\n",
            "Train Loss: 2.0485, Train Acc: 71.34%\n",
            "Test Loss: 2.5084, Test Acc: 59.73%\n",
            "--------------------------------------------------\n",
            "\n",
            "Epoch 4/10: \n",
            "\n"
          ]
        },
        {
          "output_type": "stream",
          "name": "stderr",
          "text": [
            "Training: 100%|██████████| 226/226 [00:26<00:00,  8.44it/s]\n",
            "Evaluating: 100%|██████████| 57/57 [00:04<00:00, 12.84it/s]\n"
          ]
        },
        {
          "output_type": "stream",
          "name": "stdout",
          "text": [
            "\n",
            "New best accuracy! (64.05% > 59.73%)\n",
            "Train Loss: 1.5166, Train Acc: 89.23%\n",
            "Test Loss: 2.3123, Test Acc: 64.05%\n",
            "--------------------------------------------------\n",
            "\n",
            "Epoch 5/10: \n",
            "\n"
          ]
        },
        {
          "output_type": "stream",
          "name": "stderr",
          "text": [
            "Training: 100%|██████████| 226/226 [00:29<00:00,  7.79it/s]\n",
            "Evaluating: 100%|██████████| 57/57 [00:04<00:00, 12.78it/s]\n"
          ]
        },
        {
          "output_type": "stream",
          "name": "stdout",
          "text": [
            "\n",
            "New best accuracy! (71.35% > 64.05%)\n",
            "Train Loss: 1.2823, Train Acc: 96.80%\n",
            "Test Loss: 2.1145, Test Acc: 71.35%\n",
            "--------------------------------------------------\n",
            "\n",
            "Epoch 6/10: \n",
            "\n"
          ]
        },
        {
          "output_type": "stream",
          "name": "stderr",
          "text": [
            "Training: 100%|██████████| 226/226 [00:26<00:00,  8.45it/s]\n",
            "Evaluating: 100%|██████████| 57/57 [00:05<00:00,  9.89it/s]\n"
          ]
        },
        {
          "output_type": "stream",
          "name": "stdout",
          "text": [
            "\n",
            "New best accuracy! (71.90% > 71.35%)\n",
            "Train Loss: 1.1832, Train Acc: 98.99%\n",
            "Test Loss: 2.0793, Test Acc: 71.90%\n",
            "--------------------------------------------------\n",
            "\n",
            "Epoch 7/10: \n",
            "\n"
          ]
        },
        {
          "output_type": "stream",
          "name": "stderr",
          "text": [
            "Training: 100%|██████████| 226/226 [00:26<00:00,  8.42it/s]\n",
            "Evaluating: 100%|██████████| 57/57 [00:04<00:00, 12.60it/s]\n"
          ]
        },
        {
          "output_type": "stream",
          "name": "stdout",
          "text": [
            "\n",
            "New best accuracy! (73.06% > 71.90%)\n",
            "Train Loss: 1.1463, Train Acc: 99.45%\n",
            "Test Loss: 2.0555, Test Acc: 73.06%\n",
            "--------------------------------------------------\n",
            "\n",
            "Epoch 8/10: \n",
            "\n"
          ]
        },
        {
          "output_type": "stream",
          "name": "stderr",
          "text": [
            "Training: 100%|██████████| 226/226 [00:27<00:00,  8.19it/s]\n",
            "Evaluating: 100%|██████████| 57/57 [00:06<00:00,  9.16it/s]\n"
          ]
        },
        {
          "output_type": "stream",
          "name": "stdout",
          "text": [
            "Train Loss: 1.1206, Train Acc: 99.76%\n",
            "Test Loss: 2.0763, Test Acc: 71.68%\n",
            "--------------------------------------------------\n",
            "\n",
            "Epoch 9/10: \n",
            "\n"
          ]
        },
        {
          "output_type": "stream",
          "name": "stderr",
          "text": [
            "Training: 100%|██████████| 226/226 [00:27<00:00,  8.14it/s]\n",
            "Evaluating: 100%|██████████| 57/57 [00:04<00:00, 12.75it/s]\n"
          ]
        },
        {
          "output_type": "stream",
          "name": "stdout",
          "text": [
            "Train Loss: 1.1084, Train Acc: 99.68%\n",
            "Test Loss: 2.0911, Test Acc: 72.84%\n",
            "--------------------------------------------------\n",
            "\n",
            "Epoch 10/10: \n",
            "\n"
          ]
        },
        {
          "output_type": "stream",
          "name": "stderr",
          "text": [
            "Training: 100%|██████████| 226/226 [00:27<00:00,  8.36it/s]\n",
            "Evaluating: 100%|██████████| 57/57 [00:04<00:00, 11.88it/s]\n"
          ]
        },
        {
          "output_type": "stream",
          "name": "stdout",
          "text": [
            "Train Loss: 1.1040, Train Acc: 99.76%\n",
            "Test Loss: 2.1008, Test Acc: 72.18%\n",
            "--------------------------------------------------\n",
            "\n",
            "Early stopping triggered after 10 epochs\n",
            "Total training time for mobilenetv3_large_100: 0h 5m 26s\n"
          ]
        }
      ]
    },
    {
      "cell_type": "code",
      "source": [
        "import matplotlib.pyplot as plt\n",
        "\n",
        "# Plot metrics\n",
        "def plot_metrics(metrics, model_names):\n",
        "    fig, axes = plt.subplots(1, len(model_names), figsize=(6*len(model_names), 5))\n",
        "\n",
        "    # Handle both single and multiple subplots\n",
        "    axes = [axes] if len(model_names) == 1 else axes\n",
        "\n",
        "    for i, model_name in enumerate(model_names):\n",
        "        axes[i].plot(metrics[model_name]['train_loss'], label='Train Loss')\n",
        "        axes[i].plot(metrics[model_name]['test_loss'], '--', label='Test Loss')\n",
        "        axes[i].set_title(model_name)\n",
        "        axes[i].set_xlabel('Epoch')\n",
        "        axes[i].set_ylabel('Loss')\n",
        "        axes[i].legend()\n",
        "\n",
        "    plt.tight_layout()\n",
        "    plt.show()\n",
        "\n",
        "plot_metrics(metrics, model_names)"
      ],
      "metadata": {
        "id": "FrUCinkNBfng",
        "colab": {
          "base_uri": "https://localhost:8080/",
          "height": 507
        },
        "outputId": "8b443869-9c25-4367-9549-3ee6e1e3f356"
      },
      "execution_count": 21,
      "outputs": [
        {
          "output_type": "display_data",
          "data": {
            "text/plain": [
              "<Figure size 600x500 with 1 Axes>"
            ],
            "image/png": "[encoded data removed]"
          },
          "metadata": {}
        }
      ]
    },
    {
      "cell_type": "code",
      "source": [
        "# @title Load Models (NOT IMPLEMENTED)\n",
        "\n",
        "# FIXME: Add drive links\n",
        "# Download inception_resnet_v2\n",
        "!gdown # LINK\n",
        "\n",
        "# Download efficientnet_b4\n",
        "!gdown # LINK\n",
        "\n",
        "# Download mobilenetv3_large_100\n",
        "!gdown # LINK\n",
        "\n",
        "\n",
        "def load_saved_model(model_name, model_path, num_classes=300):\n",
        "    device = torch.device(\"cuda\" if torch.cuda.is_available() else \"cpu\")\n",
        "    model = FaceClassifier(model_name, num_classes=num_classes).to(device)\n",
        "    model.load_state_dict(torch.load(model_path, map_location=device))\n",
        "    model.eval()  # Set to evaluation mode\n",
        "    print(f\"Model '{model_name}' loaded successfully from {model_path}.\")\n",
        "    return model, device\n",
        "\n",
        "# Paths to saved models\n",
        "model_names = ['inception_resnet_v2', 'efficientnet_b4', 'mobilenetv3_large_100']  # Already defined above, here only for clarity\n",
        "saved_model_paths = {\n",
        "    \"inception_resnet_v2\": \"best_inception_resnet_v2_model.pt\",\n",
        "    \"densenet201\": \"best_densenet201_model.pt\",\n",
        "    \"resnet152\": \"best_resnet152_model.pt\"\n",
        "}\n",
        "\n",
        "# Load models\n",
        "loaded_models = {}\n",
        "\n",
        "for model_name in model_names:\n",
        "    model_path = saved_model_paths.get(model_name)\n",
        "    if not model_path or not os.path.exists(model_path):\n",
        "        print(f\"Warning: Model file for '{model_name}' not found. Skipping...\")\n",
        "        continue\n",
        "\n",
        "    # Load model\n",
        "    model, device = load_saved_model(model_name, model_path)\n",
        "    loaded_models[model_name] = model"
      ],
      "metadata": {
        "id": "gV95cblt09dv"
      },
      "execution_count": null,
      "outputs": []
    },
    {
      "cell_type": "markdown",
      "source": [
        "## Uncertainty"
      ],
      "metadata": {
        "id": "iSr_fIVGRiFz"
      }
    },
    {
      "cell_type": "code",
      "source": [
        "# @title Dropout"
      ],
      "metadata": {
        "id": "oyeUahUB8QLR"
      },
      "execution_count": 7,
      "outputs": []
    }
  ]
}